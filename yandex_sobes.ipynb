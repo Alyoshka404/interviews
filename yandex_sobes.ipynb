{
 "cells": [
  {
   "cell_type": "markdown",
   "id": "2a35decc",
   "metadata": {},
   "source": [
    "Напишите преобразовалку **tsv** to **json**. У вас есть файл со строчками вида\n",
    "**url \\t title**, напишите функцию, которая берёт имя файла и на выходе\n",
    "возвращает **json** (записывать его в файл необязательно).\n",
    "\n",
    "Пример файла: https://disk.yandex.ru/d/8D_zWUCYhZu59Q\n",
    "\n",
    "Пример того, что должно быть на выходе:\n",
    "\n",
    "***[\n",
    "    {\"url\": \"https://example.com\", \"title\": \"Пример\"},\n",
    "    {\"url\": \"https://example2.com\", \"title\": \"Пример2\"},\n",
    "    ...\n",
    "]***"
   ]
  },
  {
   "cell_type": "code",
   "execution_count": 3,
   "id": "de26fe68",
   "metadata": {},
   "outputs": [],
   "source": [
    "fin = open('example_2.tsv', 'r', encoding = 'utf8')"
   ]
  },
  {
   "cell_type": "code",
   "execution_count": 4,
   "id": "7f654975",
   "metadata": {},
   "outputs": [
    {
     "name": "stdout",
     "output_type": "stream",
     "text": [
      "['https://yandex.ru\\tЯндекс', 'https://vk.com\\tВконтакте', 'https://weibo.com', 'https://tiktok.com\\tТикток']\n"
     ]
    }
   ],
   "source": [
    "l = [line.rstrip() for line in fin.readlines()]\n",
    "print(l)"
   ]
  },
  {
   "cell_type": "code",
   "execution_count": 10,
   "id": "2f4cab91",
   "metadata": {},
   "outputs": [],
   "source": [
    "fin.close()"
   ]
  },
  {
   "cell_type": "code",
   "execution_count": 5,
   "id": "dfe45ffc",
   "metadata": {},
   "outputs": [],
   "source": [
    "def func(list):\n",
    "    list_new = []\n",
    "    for i in range(len(list)):\n",
    "        str_i = list[i]\n",
    "        str_j = str_i.split('\\t')\n",
    "        list_new.append(str_j)\n",
    "    #return print(list_new)\n",
    "    list_final = []\n",
    "    for j in range(len(list_new)):\n",
    "        dict_new = {}\n",
    "        if len(list_new[j])==1:\n",
    "            dict_new[\"url\"] = list_new[j][0]\n",
    "            #return print(list_new[j][1])\n",
    "            dict_new[\"title\"] = '-'\n",
    "            list_final.append(dict_new)\n",
    "        else:\n",
    "            dict_new[\"url\"] = list_new[j][0]\n",
    "            #return print(list_new[j][1])\n",
    "            dict_new[\"title\"] = list_new[j][1]\n",
    "            list_final.append(dict_new)\n",
    "    return list_final"
   ]
  },
  {
   "cell_type": "code",
   "execution_count": 6,
   "id": "63098811",
   "metadata": {},
   "outputs": [],
   "source": [
    "res = func(l)"
   ]
  },
  {
   "cell_type": "code",
   "execution_count": 7,
   "id": "6a86f7f4",
   "metadata": {},
   "outputs": [
    {
     "data": {
      "text/plain": [
       "[{'url': 'https://yandex.ru', 'title': 'Яндекс'},\n",
       " {'url': 'https://vk.com', 'title': 'Вконтакте'},\n",
       " {'url': 'https://weibo.com', 'title': '-'},\n",
       " {'url': 'https://tiktok.com', 'title': 'Тикток'}]"
      ]
     },
     "execution_count": 7,
     "metadata": {},
     "output_type": "execute_result"
    }
   ],
   "source": [
    "res"
   ]
  },
  {
   "cell_type": "code",
   "execution_count": 22,
   "id": "92d462ae",
   "metadata": {},
   "outputs": [],
   "source": [
    "import json\n",
    "jsonString = json.dumps(res, ensure_ascii=False)"
   ]
  },
  {
   "cell_type": "code",
   "execution_count": 23,
   "id": "5fe83839",
   "metadata": {},
   "outputs": [
    {
     "name": "stdout",
     "output_type": "stream",
     "text": [
      "[{\"url\": \"https://yandex.ru\", \"title\": \"Яндекс\"}, {\"url\": \"https://vk.com\", \"title\": \"Вконтакте\"}, {\"url\": \"https://weibo.com\", \"title\": \"-\"}, {\"url\": \"https://tiktok.com\", \"title\": \"Тикток\"}]\n"
     ]
    }
   ],
   "source": [
    "print(jsonString)"
   ]
  },
  {
   "cell_type": "code",
   "execution_count": 24,
   "id": "efb08abb",
   "metadata": {},
   "outputs": [],
   "source": [
    "output = open('output.json', 'w',encoding = 'utf8')"
   ]
  },
  {
   "cell_type": "code",
   "execution_count": 25,
   "id": "4a9b39dc",
   "metadata": {},
   "outputs": [],
   "source": [
    "for i in range(len(jsonString)):\n",
    "    output.write(jsonString[i])"
   ]
  },
  {
   "cell_type": "code",
   "execution_count": 26,
   "id": "253609f1",
   "metadata": {},
   "outputs": [],
   "source": [
    "output.close()"
   ]
  }
 ],
 "metadata": {
  "kernelspec": {
   "display_name": "Python 3 (ipykernel)",
   "language": "python",
   "name": "python3"
  },
  "language_info": {
   "codemirror_mode": {
    "name": "ipython",
    "version": 3
   },
   "file_extension": ".py",
   "mimetype": "text/x-python",
   "name": "python",
   "nbconvert_exporter": "python",
   "pygments_lexer": "ipython3",
   "version": "3.9.7"
  }
 },
 "nbformat": 4,
 "nbformat_minor": 5
}
